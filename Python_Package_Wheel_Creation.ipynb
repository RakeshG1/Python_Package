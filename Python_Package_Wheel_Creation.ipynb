{
 "cells": [
  {
   "cell_type": "markdown",
   "metadata": {},
   "source": [
    "#### `About Packages Wheel`\n",
    "- Python custom package wheel creation & using it in another python project \n",
    "- For example when we install packages using pip, we internally also get installs few wheel files\n",
    "- Wheel is similar to compressed all related python files into single zip file\n",
    "- Installing packages using pip is similar to installing wheel file"
   ]
  },
  {
   "cell_type": "code",
   "execution_count": 49,
   "metadata": {},
   "outputs": [],
   "source": [
    "import os"
   ]
  },
  {
   "cell_type": "markdown",
   "metadata": {},
   "source": [
    "#### `Package Wheel Creation`"
   ]
  },
  {
   "cell_type": "code",
   "execution_count": 50,
   "metadata": {},
   "outputs": [
    {
     "name": "stdout",
     "output_type": "stream",
     "text": [
      "running bdist_wheel\n",
      "running build\n",
      "running build_py\n",
      "creating build\n",
      "creating build/lib\n",
      "creating build/lib/exampleWheel\n",
      "copying exampleWheel/exampleWheel/__init__.py -> build/lib/exampleWheel\n",
      "copying exampleWheel/exampleWheel/example.py -> build/lib/exampleWheel\n",
      "installing to build/bdist.macosx-10.9-x86_64/wheel\n",
      "running install\n",
      "running install_lib\n",
      "creating build/bdist.macosx-10.9-x86_64\n",
      "creating build/bdist.macosx-10.9-x86_64/wheel\n",
      "creating build/bdist.macosx-10.9-x86_64/wheel/exampleWheel\n",
      "copying build/lib/exampleWheel/__init__.py -> build/bdist.macosx-10.9-x86_64/wheel/exampleWheel\n",
      "copying build/lib/exampleWheel/example.py -> build/bdist.macosx-10.9-x86_64/wheel/exampleWheel\n",
      "running install_egg_info\n",
      "running egg_info\n",
      "creating exampleWheel/exampleWheel.egg-info\n",
      "writing exampleWheel/exampleWheel.egg-info/PKG-INFO\n",
      "writing dependency_links to exampleWheel/exampleWheel.egg-info/dependency_links.txt\n",
      "writing top-level names to exampleWheel/exampleWheel.egg-info/top_level.txt\n",
      "writing manifest file 'exampleWheel/exampleWheel.egg-info/SOURCES.txt'\n",
      "reading manifest file 'exampleWheel/exampleWheel.egg-info/SOURCES.txt'\n",
      "writing manifest file 'exampleWheel/exampleWheel.egg-info/SOURCES.txt'\n",
      "Copying exampleWheel/exampleWheel.egg-info to build/bdist.macosx-10.9-x86_64/wheel/exampleWheel-0.0.1-py3.8.egg-info\n",
      "running install_scripts\n",
      "creating build/bdist.macosx-10.9-x86_64/wheel/exampleWheel-0.0.1.dist-info/WHEEL\n",
      "creating 'dist/exampleWheel-0.0.1-py3-none-any.whl' and adding 'build/bdist.macosx-10.9-x86_64/wheel' to it\n",
      "adding 'exampleWheel/__init__.py'\n",
      "adding 'exampleWheel/example.py'\n",
      "adding 'exampleWheel-0.0.1.dist-info/METADATA'\n",
      "adding 'exampleWheel-0.0.1.dist-info/WHEEL'\n",
      "adding 'exampleWheel-0.0.1.dist-info/top_level.txt'\n",
      "adding 'exampleWheel-0.0.1.dist-info/RECORD'\n",
      "removing build/bdist.macosx-10.9-x86_64/wheel\n"
     ]
    }
   ],
   "source": [
    "# os.getcwd()\n",
    "!python exampleWheel/setup.py bdist_wheel "
   ]
  },
  {
   "cell_type": "markdown",
   "metadata": {},
   "source": [
    "#### `Package Wheel Installatio`"
   ]
  },
  {
   "cell_type": "code",
   "execution_count": 51,
   "metadata": {},
   "outputs": [
    {
     "name": "stdout",
     "output_type": "stream",
     "text": [
      "Found existing installation: exampleWheel 0.0.1\n",
      "Uninstalling exampleWheel-0.0.1:\n",
      "  Successfully uninstalled exampleWheel-0.0.1\n",
      "Processing ./dist/exampleWheel-0.0.1-py3-none-any.whl\n",
      "Installing collected packages: exampleWheel\n",
      "Successfully installed exampleWheel-0.0.1\n"
     ]
    }
   ],
   "source": [
    "!pip uninstall dist/exampleWheel-0.0.1-py3-none-any.whl -y\n",
    "!pip install dist/exampleWheel-0.0.1-py3-none-any.whl\n",
    "# !pip install exampleWheel"
   ]
  },
  {
   "cell_type": "markdown",
   "metadata": {},
   "source": [
    "- `Importing Packages`"
   ]
  },
  {
   "cell_type": "code",
   "execution_count": 52,
   "metadata": {},
   "outputs": [],
   "source": [
    "# import exampleWheel\n",
    "from exampleWheel.__init__ import *\n",
    "from exampleWheel.example import *"
   ]
  },
  {
   "cell_type": "markdown",
   "metadata": {},
   "source": [
    "- `Calling Functions`"
   ]
  },
  {
   "cell_type": "code",
   "execution_count": 53,
   "metadata": {},
   "outputs": [
    {
     "name": "stdout",
     "output_type": "stream",
     "text": [
      "This is an example wheel package : [__init__.py]init function : message --> Hi\n",
      "This is an example wheel package : [__init__.py]init function : message --> Hi\n",
      "This is an example wheel package : [example.py]example function : message --> Hi \n"
     ]
    }
   ],
   "source": [
    "#### Calling Function From __init__.py ####\n",
    "init_welcome_message(\"Hi\")\n",
    "#### Calling Functions From example.py ####\n",
    "example_message_1(\"Hi\")\n",
    "example_message_2(\"Hi\")"
   ]
  },
  {
   "cell_type": "markdown",
   "metadata": {},
   "source": [
    "#### `Resources`"
   ]
  },
  {
   "cell_type": "markdown",
   "metadata": {},
   "source": [
    "- https://www.realpythonproject.com/how-to-create-a-wheel-file-for-your-python-package-and-import-it-in-another-project/\n",
    "- https://python-packaging-tutorial.readthedocs.io/en/latest/setup_py.html\n",
    "- https://www.jetbrains.com/help/pycharm/creating-and-running-setup-py.html\n",
    "- https://www.mssqltips.com/sqlservertip/6802/create-wheel-file-python-package-distribute-custom-code/\n",
    "- https://packaging.python.org/en/latest/discussions/wheel-vs-egg/\n",
    "- https://stackoverflow.com/questions/1471994/what-is-setup-py"
   ]
  }
 ],
 "metadata": {
  "interpreter": {
   "hash": "c1845d3d665a7c4645787a04293bbe5e8a03c4fd33be5de1e27f761c5fbb2b2a"
  },
  "kernelspec": {
   "display_name": "Python 3.8.5 64-bit ('Python_Package_Env': conda)",
   "name": "python3"
  },
  "language_info": {
   "codemirror_mode": {
    "name": "ipython",
    "version": 3
   },
   "file_extension": ".py",
   "mimetype": "text/x-python",
   "name": "python",
   "nbconvert_exporter": "python",
   "pygments_lexer": "ipython3",
   "version": "3.8.5"
  },
  "orig_nbformat": 4
 },
 "nbformat": 4,
 "nbformat_minor": 2
}
